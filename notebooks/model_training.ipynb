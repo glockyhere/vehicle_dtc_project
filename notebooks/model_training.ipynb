# Model Training Notebook - model_training.ipynb

# Import required libraries
import pandas as pd
from sklearn.model_selection import train_test_split
from sklearn.ensemble import RandomForestClassifier
from sklearn.metrics import accuracy_score, classification_report
import joblib

# Load the cleaned dataset
df = pd.read_csv('../data/cleaned/cleaned_vehicle_dtc_data.csv')

# Prepare features and target
# Example: Assume severity_level is the feature, and we're predicting an outcome (you can replace 'target' with the actual column)
X = df[['severity_level']]  # Feature(s)
y = df['target']  # Target variable (Replace with actual target)

# Split the data into training and testing sets
X_train, X_test, y_train, y_test = train_test_split(X, y, test_size=0.2, random_state=42)

# Initialize the RandomForest model
rf_model = RandomForestClassifier(n_estimators=100, random_state=42)

# Train the model
rf_model.fit(X_train, y_train)

# Make predictions on the test set
y_pred = rf_model.predict(X_test)

# Evaluate the model
accuracy = accuracy_score(y_test, y_pred)
print(f'Accuracy: {accuracy}')
print('Classification Report:')
print(classification_report(y_test, y_pred))

# Save the model
joblib.dump(rf_model, '../models/trained_model.pkl')

# Load the model to verify
loaded_model = joblib.load('../models/trained_model.pkl')
