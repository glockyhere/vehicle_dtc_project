# EDA.ipynb - Exploratory Data Analysis Notebook

# Import required libraries
import pandas as pd
import matplotlib.pyplot as plt
import seaborn as sns

# Load cleaned data
df = pd.read_csv('../data/cleaned/cleaned_vehicle_dtc_data.csv')

# Basic data overview
print("First 5 rows of the data")
display(df.head())

print("Data Information")
df.info()

print("Summary Statistics")
display(df.describe())

# Handling timestamp conversion for time-based analysis
df['timestamp'] = pd.to_datetime(df['timestamp'])

# Plotting the distribution of severity levels
plt.figure(figsize=(8,5))
df['severity_level'].value_counts().plot(kind='bar', color='skyblue')
plt.title('Distribution of Severity Levels')
plt.xlabel('Severity Level')
plt.ylabel('Count')
plt.show()

# DTC occurrences over time (monthly)
df['month'] = df['timestamp'].dt.to_period('M')
monthly_dtc = df.groupby('month').size()

plt.figure(figsize=(10,6))
monthly_dtc.plot(kind='line')
plt.title('DTC Occurrences Over Time')
plt.xlabel('Month')
plt.ylabel('Number of DTCs')
plt.grid(True)
plt.show()

# Visualization: Severity trends over time
plt.figure(figsize=(10,6))
sns.lineplot(x='timestamp', y='severity_level', data=df)
plt.title('Severity Trends Over Time')
plt.xlabel('Date')
plt.ylabel('Severity Level')
plt.grid(True)
plt.show()

# Insights and observations can be added here
